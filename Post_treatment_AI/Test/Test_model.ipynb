{
 "cells": [
  {
   "cell_type": "markdown",
   "metadata": {},
   "source": [
    "Imports"
   ]
  },
  {
   "cell_type": "code",
   "execution_count": null,
   "metadata": {},
   "outputs": [],
   "source": [
    "import numpy as np\n",
    "import sgf\n",
    "from keras.models import load_model"
   ]
  },
  {
   "cell_type": "markdown",
   "metadata": {},
   "source": [
    "## Utils ## "
   ]
  },
  {
   "cell_type": "code",
   "execution_count": 25,
   "metadata": {},
   "outputs": [],
   "source": [
    "def sgf_coords_to_indices(coord, board_size):\n",
    "    \"\"\"Convert SGF coordinates (e.g., 'pd') to array indices.\"\"\"\n",
    "    col, row = ord(coord[0]) - ord('a'), ord(coord[1]) - ord('a')\n",
    "    return board_size - row - 1, col\n",
    "def sgf_to_sequence(sgf_file, board_size=19):\n",
    "    \"\"\"\n",
    "    Convert an SGF file to a sequence of Go board states.\n",
    "    \n",
    "    Args:\n",
    "        sgf_file (str): Path to the SGF file.\n",
    "        board_size (int): Size of the Go board.\n",
    "    \n",
    "    Returns:\n",
    "        sequence (list of np.array): Sequence of board states.\n",
    "    \"\"\"\n",
    "    with open(sgf_file, 'r') as f:\n",
    "        sgf_content = f.read()    \n",
    "    collection = sgf.parse(sgf_content)\n",
    "    game = collection[0]  # Assume a single game\n",
    "    board = np.zeros((board_size, board_size), dtype=int)\n",
    "    sequence = [board.copy()]\n",
    "    \n",
    "    for node in game.rest:\n",
    "        move = node.properties\n",
    "        if 'B' in move:  # Black move\n",
    "            x, y = sgf_coords_to_indices(move['B'][0], board_size)\n",
    "            board[x, y] = 1\n",
    "        elif 'W' in move:  # White move\n",
    "            x, y = sgf_coords_to_indices(move['W'][0], board_size)\n",
    "            board[x, y] = 2\n",
    "        sequence.append(board.copy())\n",
    "    \n",
    "    return sequence\n",
    "\n",
    "def sequence_to_sgf(sequence, board_size=19):\n",
    "    \"\"\"\n",
    "    Convert a sequence of Go board states back to SGF format.\n",
    "    \n",
    "    Args:\n",
    "        sequence (list of np.array): Sequence of board states.\n",
    "        board_size (int): Size of the Go board.\n",
    "    \n",
    "    Returns:\n",
    "        sgf_string (str): SGF representation of the game.\n",
    "    \"\"\"\n",
    "    sgf_moves = []\n",
    "    prev_board = np.zeros_like(sequence[0])\n",
    "    \n",
    "    for board in sequence[1:]:\n",
    "        diff = board - prev_board\n",
    "        move = np.where(diff > 0)\n",
    "        if len(move[0]) > 0:  # There is a move\n",
    "            x, y = move[0][0], move[1][0]\n",
    "            color = 'B' if board[x, y] == 1 else 'W'\n",
    "            sgf_moves.append(f\";{color}[{indices_to_sgf_coords(x, y, board_size)}]\")\n",
    "        prev_board = board\n",
    "    \n",
    "    sgf_string = f\"(;GM[1]SZ[{board_size}]\" + \"\".join(sgf_moves) + \")\"\n",
    "    return sgf_string\n",
    "\n",
    "def indices_to_sgf_coords(x, y, board_size):\n",
    "    \"\"\"Convert array indices to SGF coordinates.\"\"\"\n",
    "    return f\"{chr(y + ord('a'))}{chr(board_size - x - 1 + ord('a'))}\"\n",
    "\n",
    "def save_sgf_to_file(sgf_string, file_path):\n",
    "    \"\"\"\n",
    "    Save an SGF string to a file.\n",
    "    \n",
    "    Args:\n",
    "        sgf_string (str): SGF content to save.\n",
    "        file_path (str): Path to save the SGF file.\n",
    "    \"\"\"\n",
    "    with open(file_path, 'w') as f:\n",
    "        f.write(sgf_string)\n",
    "    print(f\"SGF saved to {file_path}\")\n"
   ]
  },
  {
   "cell_type": "code",
   "execution_count": 26,
   "metadata": {},
   "outputs": [],
   "source": [
    "def delete_states(sequence, start, end):\n",
    "    \"\"\"\n",
    "    Replace states with zeros to create gaps.\n",
    "    \n",
    "    Args:\n",
    "        sequence (list of np.array): Original sequence of Go board states.\n",
    "        start (int): Starting index of the gap.\n",
    "        end (int): Ending index of the gap (exclusive).\n",
    "    \n",
    "    Returns:\n",
    "        modified_sequence (list of np.array): Sequence with states replaced by zeros.\n",
    "    \"\"\"\n",
    "    board_shape = sequence[0].shape\n",
    "    for i in range(start, end):\n",
    "        sequence[i] = np.zeros(board_shape, dtype=int)\n",
    "    return sequence"
   ]
  },
  {
   "cell_type": "code",
   "execution_count": 27,
   "metadata": {},
   "outputs": [],
   "source": [
    "def get_possible_moves(initial_state, final_state):\n",
    "    \"\"\"\n",
    "    Get possible moves in a gap by subtracting the final state from the initial state.\n",
    "    \n",
    "    Args:\n",
    "        initial_state (np.array): The initial board state.\n",
    "        final_state (np.array): The final board state.\n",
    "    Returns:\n",
    "        black_moves (list of tuple): List of moves made by black.\n",
    "        white_moves (list of tuple): List of moves made by white.\n",
    "    \"\"\"\n",
    "    # Calculate the difference between states\n",
    "    difference = final_state - initial_state\n",
    "    \n",
    "    # Find all black moves (difference == 1)\n",
    "    black_moves = np.argwhere(difference == 1)\n",
    "    black_moves = [tuple(move) for move in black_moves]\n",
    "    \n",
    "    # Find all white moves (difference == 2)\n",
    "    white_moves = np.argwhere(difference == 2)\n",
    "    white_moves = [tuple(move) for move in white_moves]\n",
    "    \n",
    "    return black_moves, white_moves\n"
   ]
  },
  {
   "cell_type": "markdown",
   "metadata": {},
   "source": [
    "## Main Function ##"
   ]
  },
  {
   "cell_type": "code",
   "execution_count": 28,
   "metadata": {},
   "outputs": [],
   "source": [
    "import numpy as np\n",
    "\n",
    "def fill_gaps(model, sequence_with_gap, gap_start, gap_end, black_possible_moves, white_possible_moves):\n",
    "    \"\"\"\n",
    "    Fill the gaps in the sequence with the best moves chosen from the list of possible moves.\n",
    "\n",
    "    Args:\n",
    "        model: The trained model to predict the best move.\n",
    "        sequence_with_gap (list of np.array): The sequence of board states with gaps (missing moves).\n",
    "        gap_start (int): The start index of the gap.\n",
    "        gap_end (int): The end index of the gap.\n",
    "        black_possible_moves (list of tuple): Possible moves for black.\n",
    "        white_possible_moves (list of tuple): Possible moves for white.\n",
    "\n",
    "    Returns:\n",
    "        filled_sequence (list of np.array): The sequence with the gaps filled.\n",
    "    \"\"\"\n",
    "    filled_sequence = sequence_with_gap.copy()  # Avoid modifying the original sequence\n",
    "\n",
    "    # Determine the current player based on the difference between the last two states before the gap\n",
    "    state_before_gap_1 = sequence_with_gap[gap_start - 1]\n",
    "    state_before_gap_2 = sequence_with_gap[gap_start - 2]\n",
    "\n",
    "    # Subtract the two states to find the last move\n",
    "    difference = state_before_gap_1 - state_before_gap_2\n",
    "    current_player = 2 if np.any(difference == 1) else 2  # 1 for black, 2 for white\n",
    "\n",
    "    # Copy possible moves to avoid mutating the original lists\n",
    "    black_moves = black_possible_moves.copy()\n",
    "    white_moves = white_possible_moves.copy()\n",
    "\n",
    "    # Iterate over each gap in the sequence\n",
    "    for gap_index in range(gap_start, gap_end):\n",
    "        # Extract the current state of the board at this gap\n",
    "        current_board_state = filled_sequence[gap_index - 1]\n",
    "\n",
    "        # Choose the appropriate move list based on the current player\n",
    "        possible_moves = black_moves if current_player == 1 else white_moves\n",
    "\n",
    "        # Recalculate valid moves for the current board state\n",
    "        valid_moves = [\n",
    "            move for move in possible_moves\n",
    "            if current_board_state[move[0], move[1]] == 0\n",
    "        ]\n",
    "\n",
    "        # Initialize a list to store the candidate boards\n",
    "        candidate_boards = []\n",
    "        candidate_moves = []\n",
    "\n",
    "        # For each valid move, simulate placing a stone and prepare the candidate board\n",
    "        for move in valid_moves:\n",
    "            x, y = move\n",
    "            candidate_board = current_board_state.copy()\n",
    "            candidate_board[x, y] = current_player  # Place current player's stone\n",
    "            candidate_boards.append(candidate_board)\n",
    "            candidate_moves.append(move)  # Keep track of the valid move\n",
    "\n",
    "        # If no valid candidate boards, continue (no valid move)\n",
    "        if not candidate_boards:\n",
    "            print(f\"No valid moves for gap index {gap_index}, skipping.\")\n",
    "            continue\n",
    "\n",
    "        # Convert candidate_boards to a numpy array\n",
    "        candidate_boards = np.array(candidate_boards)\n",
    "\n",
    "        # Ensure the correct shape for the model (add the channel dimension)\n",
    "        candidate_boards = np.expand_dims(candidate_boards, axis=-1)  # Shape: (batch_size, 19, 19, 1)\n",
    "        candidate_boards = candidate_boards.astype(np.float32)\n",
    "\n",
    "        # Predict the probabilities for each candidate board\n",
    "        probabilities = model.predict(candidate_boards)\n",
    "\n",
    "        # Get the index of the best move based on the highest probability\n",
    "        best_move_idx = np.argmax(probabilities[:, current_player - 1])  # Current player determines the index\n",
    "        best_move = candidate_moves[best_move_idx]\n",
    "\n",
    "        # Update the board state with the best move\n",
    "        x, y = best_move\n",
    "        filled_sequence[gap_index] = current_board_state.copy()\n",
    "        filled_sequence[gap_index][x, y] = current_player  # Place current player's stone\n",
    "\n",
    "        # Remove the chosen move from the appropriate possible_moves list\n",
    "        if current_player == 1:\n",
    "            black_moves.remove(best_move)\n",
    "        else:\n",
    "            white_moves.remove(best_move)\n",
    "            \n",
    "        # Switch player for the next move (alternate between 1 and 2)\n",
    "        current_player = 3 - current_player  # If 1 (black), becomes 2 (white), and vice versa\n",
    "\n",
    "        print(f\"Filling gap index {gap_index} with move {best_move} by player {current_player}\")\n",
    "\n",
    "    return filled_sequence\n"
   ]
  },
  {
   "cell_type": "markdown",
   "metadata": {},
   "source": [
    "Fichier Sgf de test"
   ]
  },
  {
   "cell_type": "code",
   "execution_count": 29,
   "metadata": {},
   "outputs": [],
   "source": [
    "game=sgf_to_sequence(\"test.sgf\")"
   ]
  },
  {
   "cell_type": "code",
   "execution_count": 30,
   "metadata": {},
   "outputs": [],
   "source": [
    "sequence_with_gap=delete_states(game, 4,8)"
   ]
  },
  {
   "cell_type": "markdown",
   "metadata": {},
   "source": [
    "## Import Model ##"
   ]
  },
  {
   "cell_type": "code",
   "execution_count": 31,
   "metadata": {},
   "outputs": [],
   "source": [
    "model = load_model('modelCNN.keras')"
   ]
  },
  {
   "cell_type": "code",
   "execution_count": null,
   "metadata": {},
   "outputs": [],
   "source": [
    "b_moves,w_moves=get_possible_moves(sequence_with_gap[3],sequence_with_gap[8])"
   ]
  },
  {
   "cell_type": "code",
   "execution_count": null,
   "metadata": {},
   "outputs": [
    {
     "name": "stdout",
     "output_type": "stream",
     "text": [
      "WARNING:tensorflow:5 out of the last 11 calls to <function TensorFlowTrainer.make_predict_function.<locals>.one_step_on_data_distributed at 0x000002688B637C70> triggered tf.function retracing. Tracing is expensive and the excessive number of tracings could be due to (1) creating @tf.function repeatedly in a loop, (2) passing tensors with different shapes, (3) passing Python objects instead of tensors. For (1), please define your @tf.function outside of the loop. For (2), @tf.function has reduce_retracing=True option that can avoid unnecessary retracing. For (3), please refer to https://www.tensorflow.org/guide/function#controlling_retracing and https://www.tensorflow.org/api_docs/python/tf/function for  more details.\n",
      "\u001b[1m1/1\u001b[0m \u001b[32m━━━━━━━━━━━━━━━━━━━━\u001b[0m\u001b[37m\u001b[0m \u001b[1m0s\u001b[0m 105ms/step\n",
      "Filling gap index 4 with move (3, 9) by player 1\n",
      "WARNING:tensorflow:5 out of the last 11 calls to <function TensorFlowTrainer.make_predict_function.<locals>.one_step_on_data_distributed at 0x000002688B637C70> triggered tf.function retracing. Tracing is expensive and the excessive number of tracings could be due to (1) creating @tf.function repeatedly in a loop, (2) passing tensors with different shapes, (3) passing Python objects instead of tensors. For (1), please define your @tf.function outside of the loop. For (2), @tf.function has reduce_retracing=True option that can avoid unnecessary retracing. For (3), please refer to https://www.tensorflow.org/guide/function#controlling_retracing and https://www.tensorflow.org/api_docs/python/tf/function for  more details.\n",
      "\u001b[1m1/1\u001b[0m \u001b[32m━━━━━━━━━━━━━━━━━━━━\u001b[0m\u001b[37m\u001b[0m \u001b[1m0s\u001b[0m 112ms/step\n",
      "Filling gap index 5 with move (4, 14) by player 2\n",
      "\u001b[1m1/1\u001b[0m \u001b[32m━━━━━━━━━━━━━━━━━━━━\u001b[0m\u001b[37m\u001b[0m \u001b[1m0s\u001b[0m 39ms/step\n",
      "Filling gap index 6 with move (6, 12) by player 1\n",
      "\u001b[1m1/1\u001b[0m \u001b[32m━━━━━━━━━━━━━━━━━━━━\u001b[0m\u001b[37m\u001b[0m \u001b[1m0s\u001b[0m 40ms/step\n",
      "Filling gap index 7 with move (5, 13) by player 2\n",
      "\u001b[1m1/1\u001b[0m \u001b[32m━━━━━━━━━━━━━━━━━━━━\u001b[0m\u001b[37m\u001b[0m \u001b[1m0s\u001b[0m 40ms/step\n",
      "Filling gap index 8 with move (15, 15) by player 1\n"
     ]
    }
   ],
   "source": [
    "filled_sequence = fill_gaps(model, sequence_with_gap, 4, 9, b_moves, w_moves)"
   ]
  },
  {
   "cell_type": "code",
   "execution_count": 35,
   "metadata": {},
   "outputs": [
    {
     "name": "stdout",
     "output_type": "stream",
     "text": [
      "SGF saved to filled.sgf\n"
     ]
    }
   ],
   "source": [
    "save_sgf_to_file(sequence_to_sgf(filled_sequence),\"filled.sgf\")"
   ]
  }
 ],
 "metadata": {
  "kernelspec": {
   "display_name": "Python 3",
   "language": "python",
   "name": "python3"
  },
  "language_info": {
   "codemirror_mode": {
    "name": "ipython",
    "version": 3
   },
   "file_extension": ".py",
   "mimetype": "text/x-python",
   "name": "python",
   "nbconvert_exporter": "python",
   "pygments_lexer": "ipython3",
   "version": "3.10.0"
  }
 },
 "nbformat": 4,
 "nbformat_minor": 2
}
